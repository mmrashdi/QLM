{
 "cells": [
  {
   "cell_type": "code",
   "execution_count": 12,
   "metadata": {
    "colab": {
     "base_uri": "https://localhost:8080/"
    },
    "executionInfo": {
     "elapsed": 1200,
     "status": "ok",
     "timestamp": 1637443661266,
     "user": {
      "displayName": "Debjani Mazumder",
      "photoUrl": "https://lh3.googleusercontent.com/a-/AOh14GgJLUmmcrqtYLI8lJODpVoK8IOoOjLtUFGcklAe=s64",
      "userId": "06692241516194242093"
     },
     "user_tz": -330
    },
    "id": "ood8LTXjDA7V",
    "outputId": "7f0dbbc4-c4d3-4b2d-b870-f719a9e9514e"
   },
   "outputs": [
    {
     "name": "stderr",
     "output_type": "stream",
     "text": [
      "[nltk_data] Downloading package wordnet to\n",
      "[nltk_data]     C:\\Users\\LENOVO\\AppData\\Roaming\\nltk_data...\n",
      "[nltk_data]   Package wordnet is already up-to-date!\n",
      "[nltk_data] Downloading package stopwords to\n",
      "[nltk_data]     C:\\Users\\LENOVO\\AppData\\Roaming\\nltk_data...\n",
      "[nltk_data]   Package stopwords is already up-to-date!\n"
     ]
    },
    {
     "data": {
      "text/plain": [
       "True"
      ]
     },
     "execution_count": 12,
     "metadata": {},
     "output_type": "execute_result"
    }
   ],
   "source": [
    "import nltk\n",
    "nltk.download('wordnet')\n",
    "import re\n",
    "import numpy as np\n",
    "from nltk.stem import WordNetLemmatizer\n",
    "from nltk.corpus import stopwords\n",
    "nltk.download('stopwords')"
   ]
  },
  {
   "cell_type": "code",
   "execution_count": 13,
   "metadata": {},
   "outputs": [
    {
     "name": "stderr",
     "output_type": "stream",
     "text": [
      "[nltk_data] Downloading package punkt to\n",
      "[nltk_data]     C:\\Users\\LENOVO\\AppData\\Roaming\\nltk_data...\n",
      "[nltk_data]   Package punkt is already up-to-date!\n"
     ]
    },
    {
     "data": {
      "text/plain": [
       "True"
      ]
     },
     "execution_count": 13,
     "metadata": {},
     "output_type": "execute_result"
    }
   ],
   "source": [
    "nltk.download('punkt')"
   ]
  },
  {
   "cell_type": "code",
   "execution_count": 14,
   "metadata": {},
   "outputs": [],
   "source": [
    "sno = nltk.stem.SnowballStemmer('english')"
   ]
  },
  {
   "cell_type": "code",
   "execution_count": 15,
   "metadata": {
    "executionInfo": {
     "elapsed": 8,
     "status": "ok",
     "timestamp": 1637443661267,
     "user": {
      "displayName": "Debjani Mazumder",
      "photoUrl": "https://lh3.googleusercontent.com/a-/AOh14GgJLUmmcrqtYLI8lJODpVoK8IOoOjLtUFGcklAe=s64",
      "userId": "06692241516194242093"
     },
     "user_tz": -330
    },
    "id": "0SJvj9CvDMx0"
   },
   "outputs": [],
   "source": [
    "lemmatizer = WordNetLemmatizer()"
   ]
  },
  {
   "cell_type": "code",
   "execution_count": 16,
   "metadata": {
    "executionInfo": {
     "elapsed": 8,
     "status": "ok",
     "timestamp": 1637443661268,
     "user": {
      "displayName": "Debjani Mazumder",
      "photoUrl": "https://lh3.googleusercontent.com/a-/AOh14GgJLUmmcrqtYLI8lJODpVoK8IOoOjLtUFGcklAe=s64",
      "userId": "06692241516194242093"
     },
     "user_tz": -330
    },
    "id": "82UXh0gIC57i"
   },
   "outputs": [],
   "source": [
    "def remove_punc(string):\n",
    "\n",
    "\tpunctuations = '''-⎡⎤⎣⎦⎢πε−’–×÷!→ˆ•−–′‘“”\\n₹€£()-=+–’[]{};:'\"\\,<>./?@#$%^&*_~`?.∫'''\n",
    "\n",
    "\tfor x in string:\n",
    "\t\tif x in punctuations:\n",
    "\t\t\tstring = string.replace(x, \" \")\n",
    "\n",
    "\treturn re.sub(' +', ' ',string.lower().strip())"
   ]
  },
  {
   "cell_type": "code",
   "execution_count": 22,
   "metadata": {
    "colab": {
     "base_uri": "https://localhost:8080/"
    },
    "executionInfo": {
     "elapsed": 2155,
     "status": "ok",
     "timestamp": 1637443663415,
     "user": {
      "displayName": "Debjani Mazumder",
      "photoUrl": "https://lh3.googleusercontent.com/a-/AOh14GgJLUmmcrqtYLI8lJODpVoK8IOoOjLtUFGcklAe=s64",
      "userId": "06692241516194242093"
     },
     "user_tz": -330
    },
    "id": "gzSzxN54BJqK",
    "outputId": "a6f952d6-9d39-417f-e092-93aa0745dd9d"
   },
   "outputs": [
    {
     "name": "stdout",
     "output_type": "stream",
     "text": [
      "in physics a force is an influence that can change the motion of an object a force can cause an object with mass to change its velocity e g moving from a state of rest i e to accelerate force can also be described intuitively as a push or a pull a force has both magnitude and direction making it a vector quantity it is measured in the si unit of newton n force is represented by the symbol f formerly p the original form of newton s second law states that the net force acting upon an object is equal to the rate at which its momentum changes with time if the mass of the object is constant this law implies that the acceleration of an object is directly proportional to the net force acting on the object is in the direction of the net force and is inversely proportional to the mass of the object concepts related to force include thrust which increases the velocity of an object drag which decreases the velocity of an object and torque which produces changes in rotational speed of an object in an extended body each part usually applies forces on the adjacent parts the distribution of such forces through the body is the internal mechanical stress such internal mechanical stresses cause no acceleration of that body as the forces balance one another pressure the distribution of many small forces applied over an area of a body is a simple type of stress that if unbalanced can cause the body to accelerate stress usually causes deformation of solid materials or flow in fluids\n",
      "in physic a force is an influence that can change the motion of an object a force can cause an object with mass to change it velocity e g moving from a state of rest i e to accelerate force can also be described intuitively a a push or a pull a force ha both magnitude and direction making it a vector quantity it is measured in the si unit of newton n force is represented by the symbol f formerly p the original form of newton s second law state that the net force acting upon an object is equal to the rate at which it momentum change with time if the mass of the object is constant this law implies that the acceleration of an object is directly proportional to the net force acting on the object is in the direction of the net force and is inversely proportional to the mass of the object concept related to force include thrust which increase the velocity of an object drag which decrease the velocity of an object and torque which produce change in rotational speed of an object in an extended body each part usually applies force on the adjacent part the distribution of such force through the body is the internal mechanical stress such internal mechanical stress cause no acceleration of that body a the force balance one another pressure the distribution of many small force applied over an area of a body is a simple type of stress that if unbalanced can cause the body to accelerate stress usually cause deformation of solid material or flow in fluid\n"
     ]
    }
   ],
   "source": [
    "with open(\"corpus.txt\",'r') as f1:\n",
    "    docs = f1.readlines()\n",
    "with open(\"query.txt\",'r') as f2:\n",
    "    queries = f2.readlines()\n",
    "\n",
    "doc_0=remove_punc(docs[0])\n",
    "print(doc_0)\n",
    "word_list = nltk.word_tokenize(doc_0)\n",
    "doc_0 = ' '.join([lemmatizer.lemmatize(w) for w in word_list])\n",
    "print(doc_0)"
   ]
  },
  {
   "cell_type": "code",
   "execution_count": 23,
   "metadata": {},
   "outputs": [],
   "source": [
    "corpus = []\n",
    "query = []\n",
    "for doc in docs:\n",
    "    tmp = remove_punc(doc)\n",
    "    word_list = nltk.word_tokenize(tmp)\n",
    "    lemmas = [lemmatizer.lemmatize(w) for w in word_list] # lemmatization\n",
    "    stemmed = \" \".join([sno.stem(w) for w in lemmas if w not in stopwords.words('english')]) # stemming of lemmas\n",
    "    corpus.append(stemmed)\n",
    "\n",
    "    \n",
    "for q in queries:\n",
    "    tmp = remove_punc(q)\n",
    "    word_list = nltk.word_tokenize(tmp)\n",
    "    lemmas = [lemmatizer.lemmatize(w) for w in word_list] # lemmatization\n",
    "    stemmed = \" \".join([sno.stem(w) for w in lemmas if w not in stopwords.words('english')])\n",
    "    query.append(stemmed)"
   ]
  },
  {
   "cell_type": "markdown",
   "metadata": {},
   "source": [
    "## Unigram model"
   ]
  },
  {
   "cell_type": "code",
   "execution_count": 24,
   "metadata": {
    "colab": {
     "base_uri": "https://localhost:8080/"
    },
    "executionInfo": {
     "elapsed": 21,
     "status": "ok",
     "timestamp": 1637443663418,
     "user": {
      "displayName": "Debjani Mazumder",
      "photoUrl": "https://lh3.googleusercontent.com/a-/AOh14GgJLUmmcrqtYLI8lJODpVoK8IOoOjLtUFGcklAe=s64",
      "userId": "06692241516194242093"
     },
     "user_tz": -330
    },
    "id": "bYcsrumrCNAa",
    "outputId": "22267db4-85d2-47b1-b6b4-8abb557fbe73"
   },
   "outputs": [
    {
     "name": "stdout",
     "output_type": "stream",
     "text": [
      "query is: python iter languag\n",
      "relevant doc: python interpret high level general purpos program languag design philosophi emphas code readabl use signific indent languag construct well object orient approach aim help programm write clear logic code small larg scale project python dynam type garbag collect support multipl program paradigm includ structur particular procedur object orient function program often describ batteri includ languag due comprehens standard librari guido van rossum began work python late 1980s successor abc program languag first releas 1991 python 0 9 0 python 2 0 wa releas 2000 introduc new featur list comprehens cycl detect garbag collect system addit refer count python 3 0 wa releas 2008 wa major revis languag complet backward compat python 2 wa discontinu version 2 7 18 2020 python consist rank one popular program languag\n",
      "[9.999999999999997e-22, 7.407507407407407e-17, 3.0234427059812774e-10, 8.849657522123892e-17, 9.999999999999997e-22, 9.999999999999997e-22]\n",
      "query is: forc\n",
      "relevant doc: physic forc influenc chang motion object forc caus object mass chang veloc e g move state rest e acceler forc also describ intuit push pull forc ha magnitud direct make vector quantiti measur si unit newton n forc repres symbol f former p origin form newton second law state net forc act upon object equal rate momentum chang time mass object constant law impli acceler object direct proport net forc act object direct net forc invers proport mass object concept relat forc includ thrust increas veloc object drag decreas veloc object torqu produc chang rotat speed object extend bodi part usual appli forc adjac part distribut forc bodi intern mechan stress intern mechan stress caus acceler bodi forc balanc one anoth pressur distribut mani small forc appli area bodi simpl type stress unbalanc caus bodi acceler stress usual caus deform solid materi flow fluid\n",
      "[0.09027787777777778, 1e-07, 1e-07, 1e-07, 1e-07, 0.006802821088435374]\n",
      "query is: thermodynam\n",
      "relevant doc: thermodynam heat energi transfer thermodynam system mechan thermodynam work transfer matter various mechan energi transfer defin heat state next section articl like thermodynam work heat transfer process involv one system properti one system thermodynam energi transfer heat contribut chang system cardin energi variabl state exampl intern energi exampl enthalpi distinguish ordinari languag concept heat properti isol system quantiti energi transfer heat process amount transfer energi exclud thermodynam work wa done energi contain matter transfer precis definit heat necessari occur path doe includ transfer matter though immedi definit special kind process quantiti energi transfer heat measur effect state interact bodi exampl respect special circumst heat transfer measur amount ice melt chang temperatur bodi surround system method call calorimetri convent symbol use repres amount heat transfer thermodynam process q amount energi transfer si unit heat joul j\n",
      "[1e-07, 0.05185195185185185, 1e-07, 1e-07, 1e-07, 1e-07]\n",
      "query is: world war 2 histor event\n",
      "relevant doc: nuclear weapon also known atom bomb atom bomb nuclear bomb nuclear warhead colloqui bomb nuke explos devic deriv destruct forc nuclear reaction either fission fission bomb combin fission fusion reaction thermonuclear bomb bomb type releas larg quantiti energi relat small amount matter first test fission atom bomb releas amount energi approxim equal 20 000 ton tnt 84 tj 1 first thermonuclear hydrogen bomb test releas energi approxim equal 10 million ton tnt 42 pj nuclear bomb yield 10 ton tnt w54 50 megaton tsar bomba see tnt equival thermonuclear weapon weigh littl 2 400 pound 1 100 kg releas energi equal 1 2 million ton tnt 5 0 pj 2 nuclear devic larger convent bomb devast entir citi blast fire radiat sinc weapon mass destruct prolifer nuclear weapon focus intern relat polici nuclear weapon deploy twice war unit state japanes citi hiroshima nagasaki 1945 world war ii\n",
      "[9.999999999999996e-36, 9.999999999999996e-36, 2.3809623809523803e-30, 9.999999999999996e-36, 2.5060800062751736e-24, 1.888908627860255e-20]\n",
      "query is: nuclear bomb\n",
      "relevant doc: nuclear weapon also known atom bomb atom bomb nuclear bomb nuclear warhead colloqui bomb nuke explos devic deriv destruct forc nuclear reaction either fission fission bomb combin fission fusion reaction thermonuclear bomb bomb type releas larg quantiti energi relat small amount matter first test fission atom bomb releas amount energi approxim equal 20 000 ton tnt 84 tj 1 first thermonuclear hydrogen bomb test releas energi approxim equal 10 million ton tnt 42 pj nuclear bomb yield 10 ton tnt w54 50 megaton tsar bomba see tnt equival thermonuclear weapon weigh littl 2 400 pound 1 100 kg releas energi equal 1 2 million ton tnt 5 0 pj 2 nuclear devic larger convent bomb devast entir citi blast fire radiat sinc weapon mass destruct prolifer nuclear weapon focus intern relat polici nuclear weapon deploy twice war unit state japanes citi hiroshima nagasaki 1945 world war ii\n",
      "[9.999999999999998e-15, 9.999999999999998e-15, 9.999999999999998e-15, 9.999999999999998e-15, 7.8316438258884e-05, 0.004072390175399884]\n",
      "query is: high level\n",
      "relevant doc: python interpret high level general purpos program languag design philosophi emphas code readabl use signific indent languag construct well object orient approach aim help programm write clear logic code small larg scale project python dynam type garbag collect support multipl program paradigm includ structur particular procedur object orient function program often describ batteri includ languag due comprehens standard librari guido van rossum began work python late 1980s successor abc program languag first releas 1991 python 0 9 0 python 2 0 wa releas 2000 introduc new featur list comprehens cycl detect garbag collect system addit refer count python 3 0 wa releas 2008 wa major revis languag complet backward compat python 2 wa discontinu version 2 7 18 2020 python consist rank one popular program languag\n",
      "[9.999999999999998e-15, 9.999999999999998e-15, 6.298974553784075e-05, 9.999999999999998e-15, 9.999999999999998e-15, 9.999999999999998e-15]\n"
     ]
    }
   ],
   "source": [
    "for q in query:\n",
    "    q_words = nltk.word_tokenize(q)\n",
    "    prob = []\n",
    "    for doc in corpus:\n",
    "        doc_words = nltk.word_tokenize(doc)\n",
    "        d = []\n",
    "        p = 1\n",
    "        for word in q_words:\n",
    "            p *= doc_words.count(word) / len(doc_words) + 1e-7\n",
    "        prob.append(p)\n",
    "    max_prob_idx = np.argmax(prob)\n",
    "    print(f'query is: {q}')\n",
    "    print(f'relevant doc: {corpus[max_prob_idx]}')\n",
    "    print(prob)"
   ]
  },
  {
   "cell_type": "markdown",
   "metadata": {},
   "source": [
    "# Bigram model"
   ]
  },
  {
   "cell_type": "code",
   "execution_count": 25,
   "metadata": {},
   "outputs": [],
   "source": [
    "corpus = []\n",
    "query = []\n",
    "for doc in docs:\n",
    "    tmp = remove_punc(doc)\n",
    "    word_list = nltk.word_tokenize(tmp)\n",
    "    lemmas = [lemmatizer.lemmatize(w) for w in word_list] # lemmatization\n",
    "    stemmed = [sno.stem(w) for w in lemmas if w not in stopwords.words('english')]\n",
    "    corpus.append(stemmed)\n",
    "\n",
    "    \n",
    "for q in queries:\n",
    "    tmp = remove_punc(q)\n",
    "    word_list = nltk.word_tokenize(tmp)\n",
    "    \n",
    "    lemmas = [lemmatizer.lemmatize(w) for w in word_list] # lemmatization\n",
    "    stemmed = [sno.stem(w) for w in lemmas if w not in stopwords.words('english')]\n",
    "    query.append(stemmed)"
   ]
  },
  {
   "cell_type": "code",
   "execution_count": 26,
   "metadata": {},
   "outputs": [],
   "source": [
    "def create_bigrams(words):\n",
    "    \"\"\"\n",
    "    Function that creates a list of bigrams from a list of words in a document.\n",
    "    Returns a list.\n",
    "    \"\"\"\n",
    "    bigrams = []\n",
    "    \n",
    "    for word1, word2 in zip(words, words[1:]):\n",
    "        bigrams.append(\" \".join([word1, word2]))\n",
    "    return bigrams"
   ]
  },
  {
   "cell_type": "code",
   "execution_count": 11,
   "metadata": {
    "executionInfo": {
     "elapsed": 20,
     "status": "ok",
     "timestamp": 1637443663421,
     "user": {
      "displayName": "Debjani Mazumder",
      "photoUrl": "https://lh3.googleusercontent.com/a-/AOh14GgJLUmmcrqtYLI8lJODpVoK8IOoOjLtUFGcklAe=s64",
      "userId": "06692241516194242093"
     },
     "user_tz": -330
    },
    "id": "8tVqZrisKmC-",
    "scrolled": false
   },
   "outputs": [
    {
     "name": "stdout",
     "output_type": "stream",
     "text": [
      "query is: python iter languag\n",
      "relevant doc: physic forc influenc chang motion object forc caus object mass chang veloc e g move state rest e acceler forc also describ intuit push pull forc ha magnitud direct make vector quantiti measur si unit newton n forc repres symbol f former p origin form newton second law state net forc act upon object equal rate momentum chang time mass object constant law impli acceler object direct proport net forc act object direct net forc invers proport mass object concept relat forc includ thrust increas veloc object drag decreas veloc object torqu produc chang rotat speed object extend bodi part usual appli forc adjac part distribut forc bodi intern mechan stress intern mechan stress caus acceler bodi forc balanc one anoth pressur distribut mani small forc appli area bodi simpl type stress unbalanc caus bodi acceler stress usual caus deform solid materi flow fluid\n",
      "[9.999999999999998e-15, 9.999999999999998e-15, 9.999999999999998e-15, 9.999999999999998e-15, 9.999999999999998e-15, 9.999999999999998e-15]\n",
      "\n",
      "query is: forc\n",
      "relevant doc: physic forc influenc chang motion object forc caus object mass chang veloc e g move state rest e acceler forc also describ intuit push pull forc ha magnitud direct make vector quantiti measur si unit newton n forc repres symbol f former p origin form newton second law state net forc act upon object equal rate momentum chang time mass object constant law impli acceler object direct proport net forc act object direct net forc invers proport mass object concept relat forc includ thrust increas veloc object drag decreas veloc object torqu produc chang rotat speed object extend bodi part usual appli forc adjac part distribut forc bodi intern mechan stress intern mechan stress caus acceler bodi forc balanc one anoth pressur distribut mani small forc appli area bodi simpl type stress unbalanc caus bodi acceler stress usual caus deform solid materi flow fluid\n",
      "[1, 1, 1, 1, 1, 1]\n",
      "\n",
      "query is: thermodynam\n",
      "relevant doc: physic forc influenc chang motion object forc caus object mass chang veloc e g move state rest e acceler forc also describ intuit push pull forc ha magnitud direct make vector quantiti measur si unit newton n forc repres symbol f former p origin form newton second law state net forc act upon object equal rate momentum chang time mass object constant law impli acceler object direct proport net forc act object direct net forc invers proport mass object concept relat forc includ thrust increas veloc object drag decreas veloc object torqu produc chang rotat speed object extend bodi part usual appli forc adjac part distribut forc bodi intern mechan stress intern mechan stress caus acceler bodi forc balanc one anoth pressur distribut mani small forc appli area bodi simpl type stress unbalanc caus bodi acceler stress usual caus deform solid materi flow fluid\n",
      "[1, 1, 1, 1, 1, 1]\n",
      "\n",
      "query is: world war 2 histor event\n",
      "relevant doc: world war ii second world war often abbrevi wwii ww2 wa global war last 1939 1945 involv vast major world countriesâ includ great powersâ form two oppos militari allianc alli axi power total war direct involv 100 million personnel 30 countri major particip threw entir econom industri scientif capabl behind war effort blur distinct civilian militari resourc aircraft play major role conflict enabl strateg bomb popul centr two us nuclear weapon war day world war ii wa far deadliest conflict human histori result 70 85 million fatal major civilian ten million peopl die due genocid includ holocaust starvat massacr diseas wake axi defeat germani japan occupi war crime tribun conduct german japanes leader\n",
      "[9.999999999999996e-29, 9.999999999999996e-29, 9.999999999999996e-29, 9.999999999999996e-29, 2.678581428571428e-23, 6.849415068493149e-24]\n",
      "\n",
      "query is: nuclear bomb\n",
      "relevant doc: nuclear weapon also known atom bomb atom bomb nuclear bomb nuclear warhead colloqui bomb nuke explos devic deriv destruct forc nuclear reaction either fission fission bomb combin fission fusion reaction thermonuclear bomb bomb type releas larg quantiti energi relat small amount matter first test fission atom bomb releas amount energi approxim equal 20 000 ton tnt 84 tj 1 first thermonuclear hydrogen bomb test releas energi approxim equal 10 million ton tnt 42 pj nuclear bomb yield 10 ton tnt w54 50 megaton tsar bomba see tnt equival thermonuclear weapon weigh littl 2 400 pound 1 100 kg releas energi equal 1 2 million ton tnt 5 0 pj 2 nuclear devic larger convent bomb devast entir citi blast fire radiat sinc weapon mass destruct prolifer nuclear weapon focus intern relat polici nuclear weapon deploy twice war unit state japanes citi hiroshima nagasaki 1945 world war ii\n",
      "[1e-07, 1e-07, 1e-07, 1e-07, 1e-07, 0.0136987301369863]\n",
      "\n"
     ]
    }
   ],
   "source": [
    "for q in query:\n",
    "    query_bigrams = create_bigrams(q)\n",
    "    \n",
    "    prob = []\n",
    "    for doc in corpus:\n",
    "        doc_bigrams = create_bigrams(doc)      \n",
    "        p = 1\n",
    "        for bigram in query_bigrams:\n",
    "            p *= doc_bigrams.count(bigram) / len(doc_bigrams) + 1e-7\n",
    "            \n",
    "        prob.append(p)\n",
    "    max_prob_idx = np.argmax(prob)\n",
    "    \n",
    "    q = \" \".join(q)\n",
    "    d = \" \".join(corpus[max_prob_idx])\n",
    "    print(f'query is: {q}')\n",
    "    print(f'relevant doc: {d}')\n",
    "    print(prob)\n",
    "    print()"
   ]
  }
 ],
 "metadata": {
  "colab": {
   "authorship_tag": "ABX9TyN+kAP6gwBamHyRbhc8PFia",
   "name": "qlm.ipynb",
   "provenance": []
  },
  "kernelspec": {
   "display_name": "Python 3",
   "language": "python",
   "name": "python3"
  },
  "language_info": {
   "codemirror_mode": {
    "name": "ipython",
    "version": 3
   },
   "file_extension": ".py",
   "mimetype": "text/x-python",
   "name": "python",
   "nbconvert_exporter": "python",
   "pygments_lexer": "ipython3",
   "version": "3.8.8"
  }
 },
 "nbformat": 4,
 "nbformat_minor": 1
}
